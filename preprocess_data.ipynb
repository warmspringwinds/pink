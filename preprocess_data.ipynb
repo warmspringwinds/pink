{
 "cells": [
  {
   "cell_type": "code",
   "execution_count": 1,
   "metadata": {},
   "outputs": [
    {
     "data": {
      "text/plain": [
       "['Case_19_DHHLVD569.png',\n",
       " 'Case_17_DHHLVD250.png',\n",
       " 'Case_03_DHHLVD66.png',\n",
       " 'Case_25_DHHLVD263.png',\n",
       " 'Case_05_DHHLVD151.png',\n",
       " 'Case_01_DHHLVD158.png',\n",
       " 'Case_03_DHHLVD522.png',\n",
       " 'Case_23_DHHLVD283.png',\n",
       " 'Case_02_DHHLVD240.png',\n",
       " 'Case_09_DHHLVD286.png',\n",
       " 'Case_05_DHHLVD211.png',\n",
       " 'Case_05_DHHLVD462.png',\n",
       " 'Case_12_DHHLVD17.png',\n",
       " 'Case_05_DHHLVD269.png',\n",
       " 'Case_11_DHHLVD228.png',\n",
       " 'Case_03_DHHLVD200.png',\n",
       " 'Case_09_DHHLVD0.png',\n",
       " 'Case_21_DHHLVD581.png',\n",
       " 'Case_05_DHHLVD492.png',\n",
       " 'Case_20_DHHLVD2.png',\n",
       " 'Case_23_DHHLVD0.png',\n",
       " 'Case_05_DHHLVD515.png',\n",
       " 'Case_25_DHHLVD0.png',\n",
       " 'Case_24_GLVD218.png',\n",
       " 'Case_07_GCVD297.png',\n",
       " 'Case_14_DHHLVD193.png',\n",
       " 'Case_18_DHHLVD26.png',\n",
       " 'Case_15_DHHLVD178.png',\n",
       " 'Case_03_DHHLVD180.png',\n",
       " 'Case_05_DHHLVD11.png',\n",
       " 'Case_22_DHHLVD15.png',\n",
       " 'Case_02_DHHLVD38.png',\n",
       " 'Case_13_DHHLVD593.png',\n",
       " 'Case_20_DHHLVD16.png',\n",
       " 'Case_03_DHHLVD523.png',\n",
       " 'Case_06_DHHLVD100.png',\n",
       " 'Case_16_DHHLVD451.png',\n",
       " 'Case_04_DHHLVD1.png',\n",
       " 'Case_07_GCVD434.png',\n",
       " 'Case_08_DHHLVD34.png',\n",
       " 'Case_01_DHHLVD48.png',\n",
       " 'Case_05_DHHLVD0.png',\n",
       " 'Case_10_DHHLVD0.png',\n",
       " 'Case_01_DHHLVD372.png',\n",
       " 'Case_22_DHHLVD254.png',\n",
       " 'Case_03_DHHLVD168.png',\n",
       " 'Case_21_DHHLVD0.png',\n",
       " 'Case_05_DHHLVD17.png',\n",
       " 'Case_05_DHHLVD333.png',\n",
       " 'Case_02_DHHLVD243.png']"
      ]
     },
     "execution_count": 1,
     "metadata": {},
     "output_type": "execute_result"
    }
   ],
   "source": [
    "import glob\n",
    "\n",
    "good_filenames = glob.glob('files/*.png')\n",
    "good_filenames = list(map(lambda x: x[6:], good_filenames))\n",
    "good_filenames"
   ]
  },
  {
   "cell_type": "code",
   "execution_count": 2,
   "metadata": {},
   "outputs": [
    {
     "data": {
      "text/plain": [
       "50"
      ]
     },
     "execution_count": 2,
     "metadata": {},
     "output_type": "execute_result"
    }
   ],
   "source": [
    "len(good_filenames)"
   ]
  },
  {
   "cell_type": "code",
   "execution_count": 3,
   "metadata": {},
   "outputs": [],
   "source": [
    "import json\n",
    "\n",
    "with open('export-2021-02-27T03_50_23.970Z.json') as json_file:\n",
    "    data = json.load(json_file)"
   ]
  },
  {
   "cell_type": "code",
   "execution_count": 4,
   "metadata": {},
   "outputs": [
    {
     "name": "stdout",
     "output_type": "stream",
     "text": [
      "Case_24_GLVD218.png\n"
     ]
    }
   ],
   "source": [
    "new_data = []\n",
    "\n",
    "for good_filename in good_filenames:\n",
    "    \n",
    "    found = False\n",
    "    \n",
    "    for id, element in enumerate(data):\n",
    "\n",
    "        if  element['External ID'] == good_filename:\n",
    "            new_data.append(element)\n",
    "            found = True\n",
    "            break\n",
    "    \n",
    "    if not found:\n",
    "        print(good_filename)"
   ]
  },
  {
   "cell_type": "code",
   "execution_count": 5,
   "metadata": {},
   "outputs": [
    {
     "data": {
      "text/plain": [
       "49"
      ]
     },
     "execution_count": 5,
     "metadata": {},
     "output_type": "execute_result"
    }
   ],
   "source": [
    "len(new_data)"
   ]
  },
  {
   "cell_type": "code",
   "execution_count": 7,
   "metadata": {},
   "outputs": [
    {
     "name": "stdout",
     "output_type": "stream",
     "text": [
      "0\n",
      "1\n",
      "2\n",
      "3\n",
      "4\n",
      "5\n",
      "6\n",
      "7\n",
      "8\n",
      "9\n",
      "10\n",
      "11\n",
      "12\n",
      "13\n",
      "14\n",
      "15\n",
      "16\n",
      "17\n",
      "18\n",
      "19\n",
      "20\n",
      "21\n",
      "22\n",
      "23\n",
      "24\n",
      "25\n",
      "26\n",
      "27\n",
      "28\n",
      "29\n",
      "30\n",
      "31\n",
      "32\n",
      "33\n",
      "34\n",
      "35\n",
      "36\n",
      "37\n",
      "38\n",
      "39\n",
      "40\n",
      "41\n",
      "42\n",
      "43\n",
      "44\n",
      "45\n",
      "46\n",
      "47\n",
      "48\n"
     ]
    }
   ],
   "source": [
    "import requests\n",
    "\n",
    "for id, element in enumerate(new_data):\n",
    "    \n",
    "    url = data[0]['Label']['objects'][0]['instanceURI']\n",
    "    r = requests.get(url, allow_redirects=True)\n",
    "    with open('labels/{}.png'.format(id), 'wb') as file_to_save:\n",
    "        file_to_save.write(r.content)\n",
    "    url = data[0]['Labeled Data']\n",
    "    r = requests.get(url, allow_redirects=True)\n",
    "\n",
    "    with open('images/{}.png'.format(id), 'wb') as file_to_save:\n",
    "        file_to_save.write(r.content)\n",
    "    print(id)"
   ]
  },
  {
   "cell_type": "code",
   "execution_count": null,
   "metadata": {},
   "outputs": [],
   "source": []
  }
 ],
 "metadata": {
  "kernelspec": {
   "display_name": "Python 3",
   "language": "python",
   "name": "python3"
  },
  "language_info": {
   "codemirror_mode": {
    "name": "ipython",
    "version": 3
   },
   "file_extension": ".py",
   "mimetype": "text/x-python",
   "name": "python",
   "nbconvert_exporter": "python",
   "pygments_lexer": "ipython3",
   "version": "3.7.9"
  }
 },
 "nbformat": 4,
 "nbformat_minor": 4
}
